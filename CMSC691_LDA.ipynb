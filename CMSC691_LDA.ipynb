{
 "cells": [
  {
   "cell_type": "code",
   "execution_count": 19,
   "metadata": {},
   "outputs": [
    {
     "name": "stdout",
     "output_type": "stream",
     "text": [
      "Requirement already satisfied: wget in /home/dipta007/miniconda3/envs/ml/lib/python3.7/site-packages (3.2)\n",
      "Requirement already satisfied: spacy in /home/dipta007/miniconda3/envs/ml/lib/python3.7/site-packages (3.0.5)\n",
      "Requirement already satisfied: wasabi<1.1.0,>=0.8.1 in /home/dipta007/miniconda3/envs/ml/lib/python3.7/site-packages (from spacy) (0.8.2)\n",
      "Requirement already satisfied: preshed<3.1.0,>=3.0.2 in /home/dipta007/miniconda3/envs/ml/lib/python3.7/site-packages (from spacy) (3.0.5)\n",
      "Requirement already satisfied: catalogue<2.1.0,>=2.0.1 in /home/dipta007/miniconda3/envs/ml/lib/python3.7/site-packages (from spacy) (2.0.1)\n",
      "Requirement already satisfied: murmurhash<1.1.0,>=0.28.0 in /home/dipta007/miniconda3/envs/ml/lib/python3.7/site-packages (from spacy) (1.0.5)\n",
      "Requirement already satisfied: thinc<8.1.0,>=8.0.2 in /home/dipta007/miniconda3/envs/ml/lib/python3.7/site-packages (from spacy) (8.0.2)\n",
      "Requirement already satisfied: typer<0.4.0,>=0.3.0 in /home/dipta007/miniconda3/envs/ml/lib/python3.7/site-packages (from spacy) (0.3.2)\n",
      "Requirement already satisfied: setuptools in /home/dipta007/miniconda3/envs/ml/lib/python3.7/site-packages (from spacy) (49.2.0.post20200714)\n",
      "Requirement already satisfied: packaging>=20.0 in /home/dipta007/miniconda3/envs/ml/lib/python3.7/site-packages (from spacy) (20.9)\n",
      "Requirement already satisfied: typing-extensions<4.0.0.0,>=3.7.4; python_version < \"3.8\" in /home/dipta007/miniconda3/envs/ml/lib/python3.7/site-packages (from spacy) (3.7.4.3)\n",
      "Requirement already satisfied: importlib-metadata>=0.20; python_version < \"3.8\" in /home/dipta007/miniconda3/envs/ml/lib/python3.7/site-packages (from spacy) (3.7.0)\n",
      "Requirement already satisfied: jinja2 in /home/dipta007/miniconda3/envs/ml/lib/python3.7/site-packages (from spacy) (2.11.3)\n",
      "Requirement already satisfied: pathy>=0.3.5 in /home/dipta007/miniconda3/envs/ml/lib/python3.7/site-packages (from spacy) (0.4.0)\n",
      "Requirement already satisfied: pydantic<1.8.0,>=1.7.1 in /home/dipta007/miniconda3/envs/ml/lib/python3.7/site-packages (from spacy) (1.7.3)\n",
      "Requirement already satisfied: blis<0.8.0,>=0.4.0 in /home/dipta007/miniconda3/envs/ml/lib/python3.7/site-packages (from spacy) (0.7.4)\n",
      "Requirement already satisfied: spacy-legacy<3.1.0,>=3.0.0 in /home/dipta007/miniconda3/envs/ml/lib/python3.7/site-packages (from spacy) (3.0.2)\n",
      "Requirement already satisfied: tqdm<5.0.0,>=4.38.0 in /home/dipta007/miniconda3/envs/ml/lib/python3.7/site-packages (from spacy) (4.59.0)\n",
      "Requirement already satisfied: cymem<2.1.0,>=2.0.2 in /home/dipta007/miniconda3/envs/ml/lib/python3.7/site-packages (from spacy) (2.0.5)\n",
      "Requirement already satisfied: srsly<3.0.0,>=2.4.0 in /home/dipta007/miniconda3/envs/ml/lib/python3.7/site-packages (from spacy) (2.4.0)\n",
      "Requirement already satisfied: numpy>=1.15.0 in /home/dipta007/miniconda3/envs/ml/lib/python3.7/site-packages (from spacy) (1.19.2)\n",
      "Requirement already satisfied: requests<3.0.0,>=2.13.0 in /home/dipta007/miniconda3/envs/ml/lib/python3.7/site-packages (from spacy) (2.25.1)\n",
      "Requirement already satisfied: click<7.2.0,>=7.1.1 in /home/dipta007/miniconda3/envs/ml/lib/python3.7/site-packages (from typer<0.4.0,>=0.3.0->spacy) (7.1.2)\n",
      "Requirement already satisfied: pyparsing>=2.0.2 in /home/dipta007/miniconda3/envs/ml/lib/python3.7/site-packages (from packaging>=20.0->spacy) (2.4.7)\n",
      "Requirement already satisfied: zipp>=0.5 in /home/dipta007/miniconda3/envs/ml/lib/python3.7/site-packages (from importlib-metadata>=0.20; python_version < \"3.8\"->spacy) (3.4.0)\n",
      "Requirement already satisfied: MarkupSafe>=0.23 in /home/dipta007/miniconda3/envs/ml/lib/python3.7/site-packages (from jinja2->spacy) (1.1.1)\n",
      "Requirement already satisfied: smart-open<4.0.0,>=2.2.0 in /home/dipta007/miniconda3/envs/ml/lib/python3.7/site-packages (from pathy>=0.3.5->spacy) (3.0.0)\n",
      "Requirement already satisfied: certifi>=2017.4.17 in /home/dipta007/miniconda3/envs/ml/lib/python3.7/site-packages (from requests<3.0.0,>=2.13.0->spacy) (2020.12.5)\n",
      "Requirement already satisfied: chardet<5,>=3.0.2 in /home/dipta007/miniconda3/envs/ml/lib/python3.7/site-packages (from requests<3.0.0,>=2.13.0->spacy) (4.0.0)\n",
      "Requirement already satisfied: urllib3<1.27,>=1.21.1 in /home/dipta007/miniconda3/envs/ml/lib/python3.7/site-packages (from requests<3.0.0,>=2.13.0->spacy) (1.26.3)\n",
      "Requirement already satisfied: idna<3,>=2.5 in /home/dipta007/miniconda3/envs/ml/lib/python3.7/site-packages (from requests<3.0.0,>=2.13.0->spacy) (2.10)\n",
      "Requirement already satisfied: gensim in /home/dipta007/miniconda3/envs/ml/lib/python3.7/site-packages (3.8.3)\n",
      "Requirement already satisfied: six>=1.5.0 in /home/dipta007/miniconda3/envs/ml/lib/python3.7/site-packages (from gensim) (1.15.0)\n",
      "Requirement already satisfied: smart-open>=1.8.1 in /home/dipta007/miniconda3/envs/ml/lib/python3.7/site-packages (from gensim) (3.0.0)\n",
      "Requirement already satisfied: scipy>=0.18.1 in /home/dipta007/miniconda3/envs/ml/lib/python3.7/site-packages (from gensim) (1.4.1)\n",
      "Requirement already satisfied: numpy>=1.11.3 in /home/dipta007/miniconda3/envs/ml/lib/python3.7/site-packages (from gensim) (1.19.2)\n",
      "Requirement already satisfied: requests in /home/dipta007/miniconda3/envs/ml/lib/python3.7/site-packages (from smart-open>=1.8.1->gensim) (2.25.1)\n",
      "Requirement already satisfied: certifi>=2017.4.17 in /home/dipta007/miniconda3/envs/ml/lib/python3.7/site-packages (from requests->smart-open>=1.8.1->gensim) (2020.12.5)\n",
      "Requirement already satisfied: idna<3,>=2.5 in /home/dipta007/miniconda3/envs/ml/lib/python3.7/site-packages (from requests->smart-open>=1.8.1->gensim) (2.10)\n",
      "Requirement already satisfied: chardet<5,>=3.0.2 in /home/dipta007/miniconda3/envs/ml/lib/python3.7/site-packages (from requests->smart-open>=1.8.1->gensim) (4.0.0)\n",
      "Requirement already satisfied: urllib3<1.27,>=1.21.1 in /home/dipta007/miniconda3/envs/ml/lib/python3.7/site-packages (from requests->smart-open>=1.8.1->gensim) (1.26.3)\n"
     ]
    }
   ],
   "source": [
    "!pip install wget\n",
    "!pip install spacy\n",
    "!pip install gensim"
   ]
  },
  {
   "cell_type": "code",
   "execution_count": 20,
   "metadata": {
    "colab": {
     "base_uri": "https://localhost:8080/"
    },
    "id": "kH83bgHwnoTf",
    "outputId": "70244cdd-2f86-4464-9410-f57517ee72e9"
   },
   "outputs": [
    {
     "name": "stdout",
     "output_type": "stream",
     "text": [
      "--2021-04-09 12:39:04--  https://www.dropbox.com/s/szuhoq38fk82u5n/hw2_data.zip?dl=0\n",
      "Resolving www.dropbox.com (www.dropbox.com)... 2620:100:601f:18::a27d:912, 162.125.9.18\n",
      "Connecting to www.dropbox.com (www.dropbox.com)|2620:100:601f:18::a27d:912|:443... connected.\n",
      "HTTP request sent, awaiting response... 301 Moved Permanently\n",
      "Location: /s/raw/szuhoq38fk82u5n/hw2_data.zip [following]\n",
      "--2021-04-09 12:39:05--  https://www.dropbox.com/s/raw/szuhoq38fk82u5n/hw2_data.zip\n",
      "Reusing existing connection to [www.dropbox.com]:443.\n",
      "HTTP request sent, awaiting response... 302 Found\n",
      "Location: https://ucb79b32f3f6b4ad658e7d569c49.dl.dropboxusercontent.com/cd/0/inline/BMQn2RfYbl0uAdkyTHWTiHE7tJubAXMrRa2RWfC5xIbu1v8JOowkT_6Eeq8UCHScwH5lQB2OEefPDX8mzdHUZMqmfq3NEb_ARv_4YDWcJ1FQbD9eYYFW9_nzgNC1XNFPE1OGLJPAoAzhC0-3rJWI-B-1/file# [following]\n",
      "--2021-04-09 12:39:05--  https://ucb79b32f3f6b4ad658e7d569c49.dl.dropboxusercontent.com/cd/0/inline/BMQn2RfYbl0uAdkyTHWTiHE7tJubAXMrRa2RWfC5xIbu1v8JOowkT_6Eeq8UCHScwH5lQB2OEefPDX8mzdHUZMqmfq3NEb_ARv_4YDWcJ1FQbD9eYYFW9_nzgNC1XNFPE1OGLJPAoAzhC0-3rJWI-B-1/file\n",
      "Resolving ucb79b32f3f6b4ad658e7d569c49.dl.dropboxusercontent.com (ucb79b32f3f6b4ad658e7d569c49.dl.dropboxusercontent.com)... 2620:100:601f:15::a27d:90f, 162.125.9.15\n",
      "Connecting to ucb79b32f3f6b4ad658e7d569c49.dl.dropboxusercontent.com (ucb79b32f3f6b4ad658e7d569c49.dl.dropboxusercontent.com)|2620:100:601f:15::a27d:90f|:443... connected.\n",
      "HTTP request sent, awaiting response... 302 Found\n",
      "Location: /cd/0/inline2/BMQE7N9LwAm2F7o_RF3oScBFyrWL_JkDfVHdfrtqsivP5g4Nyci59PRfDnKVm6QhiVuTQxYfadTpbSIzokyi8SbfCJA75OXZPpV322V2xgcFzSkRXctgG6K5dg4qJKzeFz0qZSrOuuCJ2bcOMbwQ2rBqcgza5g_8eBjMT1ISf84tJvrDgHVCEB2AV6tzbrr6hGjnRkTzou2QN-Nx1d8oSyly7Z7lYwgRIxWlDrz2WGv88OwUjljSXdvVIVicq1wn0NAinmW5Tb1x_KURO1gpUTZ07Bgj6yWpQW52qDCa0Pm-TYNq4gq7bJ8uRGZI1L0azm8tjKBy5WPirCbJ-SQ2BD-dH7qGxEqqnLtPp9fIkrbLwdmW3Y66Q3JdQjEj3m2FzJY/file [following]\n",
      "--2021-04-09 12:39:06--  https://ucb79b32f3f6b4ad658e7d569c49.dl.dropboxusercontent.com/cd/0/inline2/BMQE7N9LwAm2F7o_RF3oScBFyrWL_JkDfVHdfrtqsivP5g4Nyci59PRfDnKVm6QhiVuTQxYfadTpbSIzokyi8SbfCJA75OXZPpV322V2xgcFzSkRXctgG6K5dg4qJKzeFz0qZSrOuuCJ2bcOMbwQ2rBqcgza5g_8eBjMT1ISf84tJvrDgHVCEB2AV6tzbrr6hGjnRkTzou2QN-Nx1d8oSyly7Z7lYwgRIxWlDrz2WGv88OwUjljSXdvVIVicq1wn0NAinmW5Tb1x_KURO1gpUTZ07Bgj6yWpQW52qDCa0Pm-TYNq4gq7bJ8uRGZI1L0azm8tjKBy5WPirCbJ-SQ2BD-dH7qGxEqqnLtPp9fIkrbLwdmW3Y66Q3JdQjEj3m2FzJY/file\n",
      "Reusing existing connection to [ucb79b32f3f6b4ad658e7d569c49.dl.dropboxusercontent.com]:443.\n",
      "HTTP request sent, awaiting response... 200 OK\n",
      "Length: 4169041 (4.0M) [application/zip]\n",
      "Saving to: ‘data.zip’\n",
      "\n",
      "data.zip            100%[===================>]   3.98M  4.23MB/s    in 0.9s    \n",
      "\n",
      "2021-04-09 12:39:07 (4.23 MB/s) - ‘data.zip’ saved [4169041/4169041]\n",
      "\n",
      "Archive:  data.zip\n",
      "  inflating: Data_file/#longcovid1.csv  \n",
      "  inflating: Data_file/#longcovid2.csv  \n",
      "  inflating: Data_file/#longcovid3.csv  \n",
      "  inflating: Data_file/#longcovid4.csv  \n",
      "  inflating: Data_file/#longcovid5.csv  \n"
     ]
    }
   ],
   "source": [
    "# !wget -O data.csv https://www.dropbox.com/s/xd35vnpmi2f5gdb/2016_US_election_tweets_100k.csv?dl=0\n",
    "!wget -O data.zip \"https://www.dropbox.com/s/szuhoq38fk82u5n/hw2_data.zip?dl=0\"\n",
    "!rm -rf Data_file\n",
    "!unzip data.zip"
   ]
  },
  {
   "cell_type": "code",
   "execution_count": 21,
   "metadata": {
    "colab": {
     "base_uri": "https://localhost:8080/"
    },
    "id": "PFchosp-n6RM",
    "outputId": "122c4ec5-104c-4d8c-f2ae-d55fba4f2b1c"
   },
   "outputs": [
    {
     "name": "stderr",
     "output_type": "stream",
     "text": [
      "/home/dipta007/miniconda3/envs/ml/lib/python3.7/site-packages/ipykernel_launcher.py:4: FutureWarning: Passing a negative integer is deprecated in version 1.0 and will not be supported in future version. Instead, use None to not limit the column width.\n",
      "  after removing the cwd from sys.path.\n",
      "[nltk_data] Downloading package stopwords to\n",
      "[nltk_data]     /home/dipta007/nltk_data...\n",
      "[nltk_data]   Package stopwords is already up-to-date!\n"
     ]
    }
   ],
   "source": [
    "import multiprocessing\n",
    "\n",
    "import pandas as pd\n",
    "pd.set_option('display.max_colwidth', -1)\n",
    "\n",
    "import spacy\n",
    "\n",
    "import nltk;\n",
    "from nltk.corpus import stopwords\n",
    "nltk.download('stopwords')\n",
    "\n",
    "import gensim\n",
    "import gensim.corpora as corpora\n",
    "from gensim.utils import simple_preprocess\n",
    "from gensim.models import damag\n",
    "from gensim.models.ldamulticore import LdaMulticore"
   ]
  },
  {
   "cell_type": "code",
   "execution_count": 22,
   "metadata": {
    "colab": {
     "base_uri": "https://localhost:8080/",
     "height": 204
    },
    "id": "WT83PYzdZxAB",
    "outputId": "fb26e9e8-639b-449e-adb3-06220ed60f33"
   },
   "outputs": [
    {
     "data": {
      "text/html": [
       "<div>\n",
       "<style scoped>\n",
       "    .dataframe tbody tr th:only-of-type {\n",
       "        vertical-align: middle;\n",
       "    }\n",
       "\n",
       "    .dataframe tbody tr th {\n",
       "        vertical-align: top;\n",
       "    }\n",
       "\n",
       "    .dataframe thead th {\n",
       "        text-align: right;\n",
       "    }\n",
       "</style>\n",
       "<table border=\"1\" class=\"dataframe\">\n",
       "  <thead>\n",
       "    <tr style=\"text-align: right;\">\n",
       "      <th></th>\n",
       "      <th>Unnamed: 0</th>\n",
       "      <th>data</th>\n",
       "      <th>tweet_text</th>\n",
       "    </tr>\n",
       "  </thead>\n",
       "  <tbody>\n",
       "    <tr>\n",
       "      <th>0</th>\n",
       "      <td>0</td>\n",
       "      <td>2020-11-23</td>\n",
       "      <td>back bed pneumonia symptom doctor i appointment tomorrow test gp office home really be gift keep give month infection</td>\n",
       "    </tr>\n",
       "    <tr>\n",
       "      <th>1</th>\n",
       "      <td>1</td>\n",
       "      <td>2020-11-23</td>\n",
       "      <td>grade exercise be correct advice</td>\n",
       "    </tr>\n",
       "    <tr>\n",
       "      <th>2</th>\n",
       "      <td>2</td>\n",
       "      <td>2020-11-23</td>\n",
       "      <td>second vitamin d clinical trial positive result covid19 longcovid coronavirus</td>\n",
       "    </tr>\n",
       "    <tr>\n",
       "      <th>3</th>\n",
       "      <td>3</td>\n",
       "      <td>2020-11-23</td>\n",
       "      <td>graded exercise be advise worryingly say article be bring be completely wrong advice</td>\n",
       "    </tr>\n",
       "    <tr>\n",
       "      <th>4</th>\n",
       "      <td>4</td>\n",
       "      <td>2020-11-23</td>\n",
       "      <td>tonight be feature story medical community be now call promise be interesting show</td>\n",
       "    </tr>\n",
       "  </tbody>\n",
       "</table>\n",
       "</div>"
      ],
      "text/plain": [
       "   Unnamed: 0        data  \\\n",
       "0  0           2020-11-23   \n",
       "1  1           2020-11-23   \n",
       "2  2           2020-11-23   \n",
       "3  3           2020-11-23   \n",
       "4  4           2020-11-23   \n",
       "\n",
       "                                                                                                              tweet_text  \n",
       "0  back bed pneumonia symptom doctor i appointment tomorrow test gp office home really be gift keep give month infection  \n",
       "1  grade exercise be correct advice                                                                                       \n",
       "2  second vitamin d clinical trial positive result covid19 longcovid coronavirus                                          \n",
       "3  graded exercise be advise worryingly say article be bring be completely wrong advice                                   \n",
       "4  tonight be feature story medical community be now call promise be interesting show                                     "
      ]
     },
     "execution_count": 22,
     "metadata": {},
     "output_type": "execute_result"
    }
   ],
   "source": [
    "# dfs = []\n",
    "# for i in range(1, 6):\n",
    "#   df = pd.read_csv(f'./Data_file/#longcovid{i}.csv', header=None, names=['data', 'tweet_text'])\n",
    "#   dfs.append(df)\n",
    "\n",
    "# df = pd.concat(dfs)\n",
    "\n",
    "df = pd.read_csv('out_with_lemma.csv')\n",
    "df.head()"
   ]
  },
  {
   "cell_type": "code",
   "execution_count": 23,
   "metadata": {
    "colab": {
     "base_uri": "https://localhost:8080/",
     "height": 204
    },
    "id": "gWYAJvmNoASj",
    "outputId": "9e0bf706-19b5-4fdf-bd00-5b627f484898"
   },
   "outputs": [
    {
     "data": {
      "text/html": [
       "<div>\n",
       "<style scoped>\n",
       "    .dataframe tbody tr th:only-of-type {\n",
       "        vertical-align: middle;\n",
       "    }\n",
       "\n",
       "    .dataframe tbody tr th {\n",
       "        vertical-align: top;\n",
       "    }\n",
       "\n",
       "    .dataframe thead th {\n",
       "        text-align: right;\n",
       "    }\n",
       "</style>\n",
       "<table border=\"1\" class=\"dataframe\">\n",
       "  <thead>\n",
       "    <tr style=\"text-align: right;\">\n",
       "      <th></th>\n",
       "      <th>Unnamed: 0</th>\n",
       "      <th>data</th>\n",
       "      <th>tweet_text</th>\n",
       "    </tr>\n",
       "  </thead>\n",
       "  <tbody>\n",
       "    <tr>\n",
       "      <th>0</th>\n",
       "      <td>0</td>\n",
       "      <td>2020-11-23</td>\n",
       "      <td>back bed pneumonia symptom doctor i appointment tomorrow test gp office home really be gift keep give month infection</td>\n",
       "    </tr>\n",
       "    <tr>\n",
       "      <th>1</th>\n",
       "      <td>1</td>\n",
       "      <td>2020-11-23</td>\n",
       "      <td>grade exercise be correct advice</td>\n",
       "    </tr>\n",
       "    <tr>\n",
       "      <th>2</th>\n",
       "      <td>2</td>\n",
       "      <td>2020-11-23</td>\n",
       "      <td>second vitamin d clinical trial positive result covid19 longcovid coronavirus</td>\n",
       "    </tr>\n",
       "    <tr>\n",
       "      <th>3</th>\n",
       "      <td>3</td>\n",
       "      <td>2020-11-23</td>\n",
       "      <td>graded exercise be advise worryingly say article be bring be completely wrong advice</td>\n",
       "    </tr>\n",
       "    <tr>\n",
       "      <th>4</th>\n",
       "      <td>4</td>\n",
       "      <td>2020-11-23</td>\n",
       "      <td>tonight be feature story medical community be now call promise be interesting show</td>\n",
       "    </tr>\n",
       "  </tbody>\n",
       "</table>\n",
       "</div>"
      ],
      "text/plain": [
       "   Unnamed: 0        data  \\\n",
       "0  0           2020-11-23   \n",
       "1  1           2020-11-23   \n",
       "2  2           2020-11-23   \n",
       "3  3           2020-11-23   \n",
       "4  4           2020-11-23   \n",
       "\n",
       "                                                                                                              tweet_text  \n",
       "0  back bed pneumonia symptom doctor i appointment tomorrow test gp office home really be gift keep give month infection  \n",
       "1  grade exercise be correct advice                                                                                       \n",
       "2  second vitamin d clinical trial positive result covid19 longcovid coronavirus                                          \n",
       "3  graded exercise be advise worryingly say article be bring be completely wrong advice                                   \n",
       "4  tonight be feature story medical community be now call promise be interesting show                                     "
      ]
     },
     "execution_count": 23,
     "metadata": {},
     "output_type": "execute_result"
    }
   ],
   "source": [
    "df.head()"
   ]
  },
  {
   "cell_type": "code",
   "execution_count": 24,
   "metadata": {
    "colab": {
     "base_uri": "https://localhost:8080/"
    },
    "id": "fdBdmRkloBIR",
    "outputId": "8e9af125-b4be-4a6e-b2ee-78e61b2eeb5c"
   },
   "outputs": [
    {
     "data": {
      "text/plain": [
       "105821"
      ]
     },
     "execution_count": 24,
     "metadata": {},
     "output_type": "execute_result"
    }
   ],
   "source": [
    "len(df)"
   ]
  },
  {
   "cell_type": "code",
   "execution_count": 25,
   "metadata": {
    "colab": {
     "base_uri": "https://localhost:8080/"
    },
    "id": "ljM875tboIYf",
    "outputId": "0daf70da-6984-46ae-c3fc-e54156444ed2"
   },
   "outputs": [
    {
     "data": {
      "text/plain": [
       "'second vitamin d clinical trial positive result covid19 longcovid coronavirus'"
      ]
     },
     "execution_count": 25,
     "metadata": {},
     "output_type": "execute_result"
    }
   ],
   "source": [
    "df['tweet_text'][2]"
   ]
  },
  {
   "cell_type": "markdown",
   "metadata": {
    "id": "7z9oZUtWrdOj"
   },
   "source": [
    "https://towardsdatascience.com/unsupervised-nlp-topic-models-as-a-supervised-learning-input-cf8ee9e5cf28\n",
    "  \n",
    "https://github.com/marcmuon/nlp_yelp_review_unsupervised  \n",
    "\n",
    "## Choose Number of Topics\n",
    "\n",
    "1. Run LDA on your corpus with different numbers of topics and see if word distribution per topic looks sensible.  \n",
    "2. Examine the coherence scores of your LDA model, and effectively grid search to choose the highest coherence [4].  \n",
    "3. Create a handful of LDA models with different topic values, then see how these perform in the supervised classification model training. This is specific to my goals here, since my ultimate aim is to see if the topic distributions have predictive value."
   ]
  },
  {
   "cell_type": "markdown",
   "metadata": {
    "id": "9BzKdjg9uIPC"
   },
   "source": [
    "# Pre-Process"
   ]
  },
  {
   "cell_type": "code",
   "execution_count": 26,
   "metadata": {
    "colab": {
     "base_uri": "https://localhost:8080/"
    },
    "id": "rHdoFrt4w0R6",
    "outputId": "59161d6d-667c-441f-e5f5-ece765744202"
   },
   "outputs": [
    {
     "data": {
      "text/plain": [
       "(105821, 105453)"
      ]
     },
     "execution_count": 26,
     "metadata": {},
     "output_type": "execute_result"
    }
   ],
   "source": [
    "mdf = df\n",
    "df = df.dropna(subset=['tweet_text'])\n",
    "len(mdf), len(df)"
   ]
  },
  {
   "cell_type": "code",
   "execution_count": 27,
   "metadata": {
    "id": "E7oLmgUPun4-"
   },
   "outputs": [
    {
     "name": "stdout",
     "output_type": "stream",
     "text": [
      "Requirement already satisfied: en-core-web-trf==3.0.0 from https://github.com/explosion/spacy-models/releases/download/en_core_web_trf-3.0.0/en_core_web_trf-3.0.0-py3-none-any.whl#egg=en_core_web_trf==3.0.0 in /home/dipta007/miniconda3/envs/ml/lib/python3.7/site-packages (3.0.0)\n",
      "Requirement already satisfied: spacy<3.1.0,>=3.0.0 in /home/dipta007/miniconda3/envs/ml/lib/python3.7/site-packages (from en-core-web-trf==3.0.0) (3.0.5)\n",
      "Requirement already satisfied: spacy-transformers<1.1.0,>=1.0.0rc4 in /home/dipta007/miniconda3/envs/ml/lib/python3.7/site-packages (from en-core-web-trf==3.0.0) (1.0.1)\n",
      "Requirement already satisfied: wasabi<1.1.0,>=0.8.1 in /home/dipta007/miniconda3/envs/ml/lib/python3.7/site-packages (from spacy<3.1.0,>=3.0.0->en-core-web-trf==3.0.0) (0.8.2)\n",
      "Requirement already satisfied: cymem<2.1.0,>=2.0.2 in /home/dipta007/miniconda3/envs/ml/lib/python3.7/site-packages (from spacy<3.1.0,>=3.0.0->en-core-web-trf==3.0.0) (2.0.5)\n",
      "Requirement already satisfied: tqdm<5.0.0,>=4.38.0 in /home/dipta007/miniconda3/envs/ml/lib/python3.7/site-packages (from spacy<3.1.0,>=3.0.0->en-core-web-trf==3.0.0) (4.59.0)\n",
      "Requirement already satisfied: packaging>=20.0 in /home/dipta007/miniconda3/envs/ml/lib/python3.7/site-packages (from spacy<3.1.0,>=3.0.0->en-core-web-trf==3.0.0) (20.9)\n",
      "Requirement already satisfied: typing-extensions<4.0.0.0,>=3.7.4; python_version < \"3.8\" in /home/dipta007/miniconda3/envs/ml/lib/python3.7/site-packages (from spacy<3.1.0,>=3.0.0->en-core-web-trf==3.0.0) (3.7.4.3)\n",
      "Requirement already satisfied: pydantic<1.8.0,>=1.7.1 in /home/dipta007/miniconda3/envs/ml/lib/python3.7/site-packages (from spacy<3.1.0,>=3.0.0->en-core-web-trf==3.0.0) (1.7.3)\n",
      "Requirement already satisfied: thinc<8.1.0,>=8.0.2 in /home/dipta007/miniconda3/envs/ml/lib/python3.7/site-packages (from spacy<3.1.0,>=3.0.0->en-core-web-trf==3.0.0) (8.0.2)\n",
      "Requirement already satisfied: jinja2 in /home/dipta007/miniconda3/envs/ml/lib/python3.7/site-packages (from spacy<3.1.0,>=3.0.0->en-core-web-trf==3.0.0) (2.11.3)\n",
      "Requirement already satisfied: catalogue<2.1.0,>=2.0.1 in /home/dipta007/miniconda3/envs/ml/lib/python3.7/site-packages (from spacy<3.1.0,>=3.0.0->en-core-web-trf==3.0.0) (2.0.1)\n",
      "Requirement already satisfied: blis<0.8.0,>=0.4.0 in /home/dipta007/miniconda3/envs/ml/lib/python3.7/site-packages (from spacy<3.1.0,>=3.0.0->en-core-web-trf==3.0.0) (0.7.4)\n",
      "Requirement already satisfied: srsly<3.0.0,>=2.4.0 in /home/dipta007/miniconda3/envs/ml/lib/python3.7/site-packages (from spacy<3.1.0,>=3.0.0->en-core-web-trf==3.0.0) (2.4.0)\n",
      "Requirement already satisfied: murmurhash<1.1.0,>=0.28.0 in /home/dipta007/miniconda3/envs/ml/lib/python3.7/site-packages (from spacy<3.1.0,>=3.0.0->en-core-web-trf==3.0.0) (1.0.5)\n",
      "Requirement already satisfied: pathy>=0.3.5 in /home/dipta007/miniconda3/envs/ml/lib/python3.7/site-packages (from spacy<3.1.0,>=3.0.0->en-core-web-trf==3.0.0) (0.4.0)\n",
      "Requirement already satisfied: typer<0.4.0,>=0.3.0 in /home/dipta007/miniconda3/envs/ml/lib/python3.7/site-packages (from spacy<3.1.0,>=3.0.0->en-core-web-trf==3.0.0) (0.3.2)\n",
      "Requirement already satisfied: spacy-legacy<3.1.0,>=3.0.0 in /home/dipta007/miniconda3/envs/ml/lib/python3.7/site-packages (from spacy<3.1.0,>=3.0.0->en-core-web-trf==3.0.0) (3.0.2)\n",
      "Requirement already satisfied: importlib-metadata>=0.20; python_version < \"3.8\" in /home/dipta007/miniconda3/envs/ml/lib/python3.7/site-packages (from spacy<3.1.0,>=3.0.0->en-core-web-trf==3.0.0) (3.7.0)\n",
      "Requirement already satisfied: numpy>=1.15.0 in /home/dipta007/miniconda3/envs/ml/lib/python3.7/site-packages (from spacy<3.1.0,>=3.0.0->en-core-web-trf==3.0.0) (1.19.2)\n",
      "Requirement already satisfied: requests<3.0.0,>=2.13.0 in /home/dipta007/miniconda3/envs/ml/lib/python3.7/site-packages (from spacy<3.1.0,>=3.0.0->en-core-web-trf==3.0.0) (2.25.1)\n",
      "Requirement already satisfied: setuptools in /home/dipta007/miniconda3/envs/ml/lib/python3.7/site-packages (from spacy<3.1.0,>=3.0.0->en-core-web-trf==3.0.0) (49.2.0.post20200714)\n",
      "Requirement already satisfied: preshed<3.1.0,>=3.0.2 in /home/dipta007/miniconda3/envs/ml/lib/python3.7/site-packages (from spacy<3.1.0,>=3.0.0->en-core-web-trf==3.0.0) (3.0.5)\n",
      "Requirement already satisfied: transformers<4.3.0,>=3.1.0 in /home/dipta007/miniconda3/envs/ml/lib/python3.7/site-packages (from spacy-transformers<1.1.0,>=1.0.0rc4->en-core-web-trf==3.0.0) (4.2.2)\n",
      "Requirement already satisfied: torchcontrib<0.1.0,>=0.0.2 in /home/dipta007/miniconda3/envs/ml/lib/python3.7/site-packages (from spacy-transformers<1.1.0,>=1.0.0rc4->en-core-web-trf==3.0.0) (0.0.2)\n",
      "Requirement already satisfied: torch>=1.5.0 in /home/dipta007/miniconda3/envs/ml/lib/python3.7/site-packages (from spacy-transformers<1.1.0,>=1.0.0rc4->en-core-web-trf==3.0.0) (1.8.1)\n",
      "Requirement already satisfied: spacy-alignments<1.0.0,>=0.7.2 in /home/dipta007/miniconda3/envs/ml/lib/python3.7/site-packages (from spacy-transformers<1.1.0,>=1.0.0rc4->en-core-web-trf==3.0.0) (0.7.2)\n",
      "Requirement already satisfied: ftfy<6.0.0,>=5.0.0 in /home/dipta007/miniconda3/envs/ml/lib/python3.7/site-packages (from spacy-transformers<1.1.0,>=1.0.0rc4->en-core-web-trf==3.0.0) (5.9)\n",
      "Requirement already satisfied: pyparsing>=2.0.2 in /home/dipta007/miniconda3/envs/ml/lib/python3.7/site-packages (from packaging>=20.0->spacy<3.1.0,>=3.0.0->en-core-web-trf==3.0.0) (2.4.7)\n",
      "Requirement already satisfied: MarkupSafe>=0.23 in /home/dipta007/miniconda3/envs/ml/lib/python3.7/site-packages (from jinja2->spacy<3.1.0,>=3.0.0->en-core-web-trf==3.0.0) (1.1.1)\n",
      "Requirement already satisfied: smart-open<4.0.0,>=2.2.0 in /home/dipta007/miniconda3/envs/ml/lib/python3.7/site-packages (from pathy>=0.3.5->spacy<3.1.0,>=3.0.0->en-core-web-trf==3.0.0) (3.0.0)\n",
      "Requirement already satisfied: click<7.2.0,>=7.1.1 in /home/dipta007/miniconda3/envs/ml/lib/python3.7/site-packages (from typer<0.4.0,>=0.3.0->spacy<3.1.0,>=3.0.0->en-core-web-trf==3.0.0) (7.1.2)\n",
      "Requirement already satisfied: zipp>=0.5 in /home/dipta007/miniconda3/envs/ml/lib/python3.7/site-packages (from importlib-metadata>=0.20; python_version < \"3.8\"->spacy<3.1.0,>=3.0.0->en-core-web-trf==3.0.0) (3.4.0)\n",
      "Requirement already satisfied: certifi>=2017.4.17 in /home/dipta007/miniconda3/envs/ml/lib/python3.7/site-packages (from requests<3.0.0,>=2.13.0->spacy<3.1.0,>=3.0.0->en-core-web-trf==3.0.0) (2020.12.5)\n",
      "Requirement already satisfied: idna<3,>=2.5 in /home/dipta007/miniconda3/envs/ml/lib/python3.7/site-packages (from requests<3.0.0,>=2.13.0->spacy<3.1.0,>=3.0.0->en-core-web-trf==3.0.0) (2.10)\n",
      "Requirement already satisfied: urllib3<1.27,>=1.21.1 in /home/dipta007/miniconda3/envs/ml/lib/python3.7/site-packages (from requests<3.0.0,>=2.13.0->spacy<3.1.0,>=3.0.0->en-core-web-trf==3.0.0) (1.26.3)\n",
      "Requirement already satisfied: chardet<5,>=3.0.2 in /home/dipta007/miniconda3/envs/ml/lib/python3.7/site-packages (from requests<3.0.0,>=2.13.0->spacy<3.1.0,>=3.0.0->en-core-web-trf==3.0.0) (4.0.0)\n",
      "Requirement already satisfied: sacremoses in /home/dipta007/miniconda3/envs/ml/lib/python3.7/site-packages (from transformers<4.3.0,>=3.1.0->spacy-transformers<1.1.0,>=1.0.0rc4->en-core-web-trf==3.0.0) (0.0.44)\n",
      "Requirement already satisfied: filelock in /home/dipta007/miniconda3/envs/ml/lib/python3.7/site-packages (from transformers<4.3.0,>=3.1.0->spacy-transformers<1.1.0,>=1.0.0rc4->en-core-web-trf==3.0.0) (3.0.12)\n",
      "Requirement already satisfied: regex!=2019.12.17 in /home/dipta007/miniconda3/envs/ml/lib/python3.7/site-packages (from transformers<4.3.0,>=3.1.0->spacy-transformers<1.1.0,>=1.0.0rc4->en-core-web-trf==3.0.0) (2020.6.8)\n",
      "Requirement already satisfied: tokenizers==0.9.4 in /home/dipta007/miniconda3/envs/ml/lib/python3.7/site-packages (from transformers<4.3.0,>=3.1.0->spacy-transformers<1.1.0,>=1.0.0rc4->en-core-web-trf==3.0.0) (0.9.4)\n",
      "Requirement already satisfied: wcwidth in /home/dipta007/miniconda3/envs/ml/lib/python3.7/site-packages (from ftfy<6.0.0,>=5.0.0->spacy-transformers<1.1.0,>=1.0.0rc4->en-core-web-trf==3.0.0) (0.2.5)\n",
      "Requirement already satisfied: joblib in /home/dipta007/miniconda3/envs/ml/lib/python3.7/site-packages (from sacremoses->transformers<4.3.0,>=3.1.0->spacy-transformers<1.1.0,>=1.0.0rc4->en-core-web-trf==3.0.0) (0.16.0)\n",
      "Requirement already satisfied: six in /home/dipta007/miniconda3/envs/ml/lib/python3.7/site-packages (from sacremoses->transformers<4.3.0,>=3.1.0->spacy-transformers<1.1.0,>=1.0.0rc4->en-core-web-trf==3.0.0) (1.15.0)\n"
     ]
    },
    {
     "name": "stdout",
     "output_type": "stream",
     "text": [
      "\u001b[38;5;2m✔ Download and installation successful\u001b[0m\r\n",
      "You can now load the package via spacy.load('en_core_web_trf')\r\n"
     ]
    }
   ],
   "source": [
    "stop_words = stopwords.words('english')\n",
    "stop_words.extend([\n",
    "                   \"something\"\n",
    "])\n",
    "\n",
    "!python -m spacy download en_core_web_trf\n",
    "\n",
    "nlp = spacy.load('en_core_web_trf', disable=['parser', 'ner'])"
   ]
  },
  {
   "cell_type": "code",
   "execution_count": 28,
   "metadata": {
    "id": "07jdjXQau2l3"
   },
   "outputs": [],
   "source": [
    "def strip_newline(series):\n",
    "  return [review.replace('\\n','') for review in series]\n",
    "\n",
    "def sent_to_words(sentences):\n",
    "    for sentence in sentences:\n",
    "        yield(gensim.utils.simple_preprocess(str(sentence), deacc=True))\n",
    "        \n",
    "def remove_stopwords(texts):\n",
    "    return [[word for word in simple_preprocess(str(doc)) if word not in stop_words] for doc in texts]\n",
    "\n",
    "def bigrams(words, bi_min=15, tri_min=10):\n",
    "    bigram = gensim.models.Phrases(words, min_count = bi_min)\n",
    "    bigram_mod = gensim.models.phrases.Phraser(bigram)\n",
    "    return bigram_mod  "
   ]
  },
  {
   "cell_type": "code",
   "execution_count": 29,
   "metadata": {
    "id": "NTcGgTT4vFox"
   },
   "outputs": [],
   "source": [
    "def get_corpus(df):\n",
    "    \"\"\"\n",
    "    Get Bigram Model, Corpus, id2word mapping\n",
    "    \"\"\"\n",
    "    # df['tweet_text'] = df['tweet_text'].apply(lambda x: x.split())\n",
    "    df['tweet_text'] = strip_newline(df.tweet_text)\n",
    "    words = list(sent_to_words(df.tweet_text))\n",
    "    words = remove_stopwords(words)\n",
    "    bigram = bigrams(words)\n",
    "    bigram = [bigram[review] for review in words]\n",
    "    id2word = gensim.corpora.Dictionary(bigram)\n",
    "    id2word.filter_extremes(no_below=10, no_above=0.35)\n",
    "    id2word.compactify()\n",
    "    corpus = [id2word.doc2bow(text) for text in bigram]\n",
    "    return corpus, id2word, bigram"
   ]
  },
  {
   "cell_type": "code",
   "execution_count": 30,
   "metadata": {
    "id": "EYmq-145vU9j"
   },
   "outputs": [
    {
     "name": "stderr",
     "output_type": "stream",
     "text": [
      "/home/dipta007/miniconda3/envs/ml/lib/python3.7/site-packages/ipykernel_launcher.py:6: SettingWithCopyWarning: \n",
      "A value is trying to be set on a copy of a slice from a DataFrame.\n",
      "Try using .loc[row_indexer,col_indexer] = value instead\n",
      "\n",
      "See the caveats in the documentation: https://pandas.pydata.org/pandas-docs/stable/user_guide/indexing.html#returning-a-view-versus-a-copy\n",
      "  \n"
     ]
    }
   ],
   "source": [
    "train_corpus4, train_id2word4, bigram_train4 = get_corpus(df)\n"
   ]
  },
  {
   "cell_type": "code",
   "execution_count": 31,
   "metadata": {
    "colab": {
     "base_uri": "https://localhost:8080/"
    },
    "id": "F84g-CpJy9vw",
    "outputId": "8ed71591-1a8f-4fb1-e108-7c6c2dbed10d"
   },
   "outputs": [
    {
     "data": {
      "text/plain": [
       "16"
      ]
     },
     "execution_count": 31,
     "metadata": {},
     "output_type": "execute_result"
    }
   ],
   "source": [
    "multiprocessing.cpu_count()"
   ]
  },
  {
   "cell_type": "code",
   "execution_count": 35,
   "metadata": {
    "id": "AXxKRb-xzJtW"
   },
   "outputs": [],
   "source": [
    "def get_model_result(num_topics):\n",
    "  lda_model = LdaMulticore(corpus=train_corpus4,\n",
    "                          num_topics=num_topics,\n",
    "                          id2word=train_id2word4,\n",
    "                          chunksize=100,\n",
    "                          workers=multiprocessing.cpu_count(),\n",
    "                          passes=4,\n",
    "                          # eval_every = 1\n",
    "                          )\n",
    "  coherence_model_lda = CoherenceModel(model=lda_model, texts=bigram_train4, dictionary=train_id2word4, coherence='c_v')\n",
    "  coherence_lda = coherence_model_lda.get_coherence()\n",
    "  return coherence_lda, lda_model"
   ]
  },
  {
   "cell_type": "code",
   "execution_count": 36,
   "metadata": {
    "colab": {
     "base_uri": "https://localhost:8080/"
    },
    "id": "6T0aQc0NztnB",
    "outputId": "1b7065e3-40a5-488b-e4dd-48323bb2e8ad"
   },
   "outputs": [
    {
     "name": "stdout",
     "output_type": "stream",
     "text": [
      "Found Best Result for 1 with coherence 0.1376082244070588\n",
      "Found Best Result for 2 with coherence 0.2469477808737014\n",
      "Found Best Result for 3 with coherence 0.2689993291322535\n",
      "Found Best Result for 6 with coherence 0.2926006085381369\n",
      "Found Best Result for 7 with coherence 0.3177840845658494\n",
      "Found Best Result for 8 with coherence 0.3530812145107512\n",
      "Completed 10\n",
      "Completed 20\n",
      "Found Best Result for 20 with coherence 0.36106329690159067\n",
      "Completed 30\n",
      "Completed 40\n",
      "Completed 50\n",
      "Completed 60\n",
      "Completed 70\n",
      "Completed 80\n",
      "Completed 90\n",
      "Completed 100\n",
      "Completed 110\n",
      "Found Best Result for 114 with coherence 0.36209396822993756\n",
      "Completed 120\n",
      "Found Best Result for 128 with coherence 0.3623505663307919\n",
      "Completed 130\n",
      "Completed 140\n"
     ]
    }
   ],
   "source": [
    "best = 0\n",
    "best_num = -1\n",
    "best_model = None\n",
    "x = []\n",
    "y = []\n",
    "\n",
    "for i in range(1, 150, 1):\n",
    "  curr_val, curr_model = get_model_result(i)\n",
    "  x.append(i)\n",
    "  y.append(curr_val)\n",
    "  if i%10 == 0:\n",
    "    print(f\"Completed {i}\")\n",
    "  if curr_val > best:\n",
    "    print(f\"Found Best Result for {i} with coherence {curr_val}\")\n",
    "    best = curr_val\n",
    "    best_num = i\n",
    "    best_model = curr_model"
   ]
  },
  {
   "cell_type": "code",
   "execution_count": 37,
   "metadata": {
    "scrolled": true
   },
   "outputs": [
    {
     "data": {
      "image/png": "[encoded data removed]",
      "text/plain": [
       "<Figure size 432x288 with 1 Axes>"
      ]
     },
     "metadata": {
      "needs_background": "light"
     },
     "output_type": "display_data"
    }
   ],
   "source": [
    "import matplotlib.pyplot as plt\n",
    "\n",
    "plt.plot(x, y)\n",
    "plt.xlabel('Number of Topics')\n",
    "plt.ylabel('Coherenece Score')\n",
    "plt.legend('Coherence Values - LDA', loc='best')\n",
    "plt.savefig('./figs/lda_coherence.png')\n",
    "plt.show()\n",
    "# 198\n"
   ]
  },
  {
   "cell_type": "code",
   "execution_count": 39,
   "metadata": {},
   "outputs": [],
   "source": [
    "bv, bm = get_model_result(20)"
   ]
  },
  {
   "cell_type": "code",
   "execution_count": 40,
   "metadata": {},
   "outputs": [
    {
     "data": {
      "text/plain": [
       "0.33496388393821236"
      ]
     },
     "execution_count": 40,
     "metadata": {},
     "output_type": "execute_result"
    }
   ],
   "source": [
    "bv"
   ]
  },
  {
   "cell_type": "code",
   "execution_count": 41,
   "metadata": {},
   "outputs": [
    {
     "data": {
      "text/plain": [
       "[(0,\n",
       "  '0.195*\"get\" + 0.045*\"let\" + 0.045*\"know\" + 0.044*\"child\" + 0.043*\"ill\" + 0.029*\"people\" + 0.028*\"feel\" + 0.027*\"seem\" + 0.026*\"well\" + 0.024*\"kid\" + 0.022*\"school\" + 0.017*\"answer\" + 0.017*\"hard\" + 0.017*\"go\" + 0.016*\"affect\" + 0.015*\"help\" + 0.014*\"parent\" + 0.014*\"young\" + 0.013*\"understand\" + 0.012*\"think\"'),\n",
       " (1,\n",
       "  '0.054*\"worrisome\" + 0.048*\"month\" + 0.040*\"well\" + 0.035*\"bad\" + 0.023*\"organ_damage\" + 0.022*\"lung\" + 0.021*\"wave\" + 0.020*\"longcovid\" + 0.019*\"work\" + 0.019*\"longhauler\" + 0.019*\"still\" + 0.017*\"later\" + 0.014*\"normal\" + 0.013*\"rest\" + 0.012*\"feel\" + 0.011*\"flu\" + 0.011*\"damage\" + 0.011*\"average\" + 0.011*\"get\" + 0.010*\"message\"'),\n",
       " (2,\n",
       "  '0.058*\"say\" + 0.049*\"symptom\" + 0.031*\"fatigue\" + 0.030*\"people\" + 0.028*\"also\" + 0.026*\"post_viral\" + 0.018*\"care\" + 0.017*\"condition\" + 0.016*\"medical\" + 0.016*\"many\" + 0.016*\"syndrome\" + 0.014*\"make\" + 0.013*\"interview\" + 0.013*\"develop\" + 0.011*\"become\" + 0.011*\"tell\" + 0.010*\"hope\" + 0.009*\"linger\" + 0.009*\"feel\" + 0.009*\"give\"'),\n",
       " (3,\n",
       "  '0.232*\"virus\" + 0.142*\"case\" + 0.089*\"last\" + 0.089*\"impact\" + 0.034*\"longcovid\" + 0.030*\"test\" + 0.027*\"save\" + 0.024*\"soon\" + 0.018*\"access\" + 0.015*\"unwell\" + 0.014*\"month\" + 0.014*\"take_action\" + 0.012*\"aware\" + 0.012*\"economy\" + 0.010*\"care\" + 0.010*\"positive_test\" + 0.009*\"make\" + 0.009*\"response\" + 0.008*\"confirm\" + 0.008*\"enemy\"'),\n",
       " (4,\n",
       "  '0.061*\"thank\" + 0.043*\"mean\" + 0.042*\"really\" + 0.035*\"recover\" + 0.033*\"well\" + 0.024*\"write\" + 0.022*\"see\" + 0.016*\"treatment\" + 0.015*\"illness\" + 0.014*\"story\" + 0.014*\"heart_lung\" + 0.014*\"cause\" + 0.013*\"report\" + 0.012*\"change\" + 0.012*\"survive\" + 0.012*\"struggle\" + 0.012*\"publish\" + 0.011*\"issue\" + 0.011*\"million\" + 0.011*\"highlight\"'),\n",
       " (5,\n",
       "  '0.199*\"patient\" + 0.120*\"many\" + 0.112*\"life\" + 0.110*\"long\" + 0.064*\"young_healthy\" + 0.047*\"longhauler\" + 0.043*\"meet\" + 0.013*\"present\" + 0.013*\"hospitalise\" + 0.012*\"else\" + 0.011*\"organ\" + 0.010*\"later\" + 0.010*\"consequence\" + 0.010*\"continue\" + 0.010*\"study\" + 0.009*\"sign\" + 0.008*\"low_risk\" + 0.008*\"work\" + 0.007*\"month\" + 0.007*\"rt\"'),\n",
       " (6,\n",
       "  '0.153*\"symptom\" + 0.130*\"effect\" + 0.104*\"month\" + 0.104*\"people\" + 0.095*\"infection\" + 0.080*\"longcovid\" + 0.031*\"covid\" + 0.031*\"go\" + 0.024*\"term\" + 0.024*\"coronavirus\" + 0.023*\"long\" + 0.014*\"still\" + 0.013*\"persistent\" + 0.013*\"seriously_ill\" + 0.010*\"suffer\" + 0.009*\"longhauler\" + 0.009*\"patient\" + 0.009*\"problem\" + 0.007*\"difficult_time\" + 0.006*\"young\"'),\n",
       " (7,\n",
       "  '0.053*\"herd_immunity\" + 0.049*\"idea\" + 0.040*\"term\" + 0.037*\"long\" + 0.029*\"patient\" + 0.027*\"get\" + 0.026*\"illness\" + 0.021*\"longcovid\" + 0.017*\"make\" + 0.014*\"many\" + 0.013*\"ignore\" + 0.013*\"cause\" + 0.012*\"clinician\" + 0.012*\"question\" + 0.011*\"recognise\" + 0.009*\"take\" + 0.009*\"thank\" + 0.009*\"hit\" + 0.009*\"acknowledge\" + 0.009*\"brain\"'),\n",
       " (8,\n",
       "  '0.082*\"people\" + 0.072*\"month\" + 0.055*\"individual\" + 0.055*\"leave_house\" + 0.049*\"mechanism\" + 0.035*\"hour\" + 0.034*\"one\" + 0.032*\"expert\" + 0.030*\"understand\" + 0.027*\"folk\" + 0.025*\"volunteer\" + 0.023*\"thank\" + 0.021*\"consider\" + 0.019*\"base\" + 0.017*\"fully\" + 0.015*\"recovery\" + 0.015*\"thought\" + 0.014*\"excellent\" + 0.013*\"change\" + 0.012*\"almost\"'),\n",
       " (9,\n",
       "  '0.073*\"people\" + 0.070*\"support\" + 0.065*\"year\" + 0.060*\"research\" + 0.044*\"group\" + 0.036*\"patient\" + 0.033*\"need\" + 0.022*\"evidence\" + 0.019*\"ignore\" + 0.019*\"treat\" + 0.018*\"join\" + 0.018*\"longcovid\" + 0.016*\"lead\" + 0.015*\"nt\" + 0.014*\"help\" + 0.013*\"new\" + 0.012*\"sick\" + 0.011*\"urgent\" + 0.011*\"member\" + 0.011*\"see\"'),\n",
       " (10,\n",
       "  '0.096*\"need\" + 0.075*\"take\" + 0.070*\"year_old\" + 0.055*\"real\" + 0.049*\"affect\" + 0.048*\"know\" + 0.032*\"seriously\" + 0.026*\"many\" + 0.023*\"hear\" + 0.022*\"prevent\" + 0.020*\"speak\" + 0.017*\"help\" + 0.017*\"article\" + 0.017*\"public\" + 0.015*\"yet\" + 0.014*\"piece\" + 0.014*\"great\" + 0.013*\"amazing\" + 0.011*\"symptom\" + 0.011*\"far\"'),\n",
       " (11,\n",
       "  '0.205*\"people\" + 0.114*\"day\" + 0.083*\"couid\" + 0.080*\"count\" + 0.053*\"still\" + 0.050*\"age\" + 0.046*\"happen\" + 0.042*\"mild\" + 0.026*\"dear\" + 0.023*\"long\" + 0.023*\"problem\" + 0.018*\"virus\" + 0.017*\"infection\" + 0.013*\"fully_recover\" + 0.012*\"government\" + 0.009*\"past\" + 0.007*\"obsession_fatality\" + 0.007*\"later_vineetchopra\" + 0.007*\"much_occur\" + 0.007*\"hospitalization_miss\"'),\n",
       " (12,\n",
       "  '0.110*\"health\" + 0.090*\"recovery\" + 0.062*\"week\" + 0.045*\"term\" + 0.044*\"death\" + 0.042*\"symptom\" + 0.040*\"long\" + 0.039*\"need\" + 0.029*\"system\" + 0.026*\"healthcare\" + 0.025*\"know\" + 0.022*\"risk\" + 0.016*\"deal\" + 0.014*\"cope\" + 0.014*\"disease\" + 0.014*\"mental\" + 0.014*\"work\" + 0.013*\"infection\" + 0.011*\"patient\" + 0.011*\"find\"'),\n",
       " (13,\n",
       "  '0.064*\"even\" + 0.049*\"first\" + 0.045*\"post\" + 0.035*\"call\" + 0.035*\"study\" + 0.034*\"virus\" + 0.030*\"patient\" + 0.029*\"important\" + 0.025*\"longcovid\" + 0.021*\"symptom\" + 0.020*\"time\" + 0.018*\"believe\" + 0.017*\"body\" + 0.017*\"know\" + 0.016*\"much\" + 0.016*\"person\" + 0.016*\"research\" + 0.016*\"likely\" + 0.015*\"wonder\" + 0.015*\"month\"'),\n",
       " (14,\n",
       "  '0.070*\"covid\" + 0.041*\"thread\" + 0.041*\"chronic\" + 0.037*\"lockdown\" + 0.036*\"pain\" + 0.035*\"want\" + 0.029*\"longcovid\" + 0.028*\"fatigue\" + 0.024*\"long\" + 0.023*\"start\" + 0.023*\"heart\" + 0.020*\"enough\" + 0.018*\"today\" + 0.018*\"hospitalization\" + 0.017*\"go\" + 0.016*\"death\" + 0.016*\"try\" + 0.016*\"hospital\" + 0.015*\"safe\" + 0.015*\"syndrome\"'),\n",
       " (15,\n",
       "  '0.220*\"multi_system\" + 0.092*\"read\" + 0.050*\"common\" + 0.044*\"explain\" + 0.044*\"morbidity\" + 0.030*\"people\" + 0.021*\"hope\" + 0.019*\"news\" + 0.018*\"longcovid\" + 0.016*\"seminar\" + 0.016*\"check\" + 0.013*\"good\" + 0.012*\"course\" + 0.012*\"create\" + 0.012*\"quality_life\" + 0.011*\"cell\" + 0.011*\"see\" + 0.011*\"post\" + 0.009*\"postcovid\" + 0.009*\"patient\"'),\n",
       " (16,\n",
       "  '0.046*\"young\" + 0.040*\"people\" + 0.037*\"die\" + 0.034*\"healthy\" + 0.033*\"infect\" + 0.033*\"risk\" + 0.028*\"suffer\" + 0.024*\"thousand\" + 0.022*\"get\" + 0.022*\"science\" + 0.021*\"never\" + 0.020*\"still\" + 0.019*\"late\" + 0.018*\"fit\" + 0.018*\"right\" + 0.016*\"end\" + 0.016*\"fact\" + 0.014*\"death\" + 0.014*\"turn\" + 0.013*\"catch\"'),\n",
       " (17,\n",
       "  '0.076*\"experience\" + 0.065*\"help\" + 0.060*\"talk\" + 0.054*\"live\" + 0.047*\"need\" + 0.036*\"take_seriously\" + 0.036*\"think\" + 0.033*\"people\" + 0.030*\"share\" + 0.025*\"clinic\" + 0.021*\"story\" + 0.020*\"go\" + 0.019*\"make\" + 0.018*\"debilitating\" + 0.017*\"still\" + 0.016*\"use\" + 0.016*\"keep\" + 0.014*\"sick\" + 0.013*\"friend\" + 0.013*\"policy\"'),\n",
       " (18,\n",
       "  '0.075*\"see\" + 0.034*\"forget\" + 0.027*\"highly_relevant\" + 0.023*\"significant\" + 0.023*\"high\" + 0.020*\"great\" + 0.019*\"longcovid\" + 0.017*\"article\" + 0.017*\"watch\" + 0.016*\"disability\" + 0.016*\"ten_thousand\" + 0.016*\"new\" + 0.015*\"longhauler\" + 0.015*\"low\" + 0.014*\"include\" + 0.014*\"today\" + 0.014*\"face\" + 0.014*\"paper\" + 0.014*\"account\" + 0.014*\"good\"'),\n",
       " (19,\n",
       "  '0.045*\"back\" + 0.044*\"work\" + 0.040*\"today\" + 0.035*\"month\" + 0.035*\"key\" + 0.028*\"new\" + 0.021*\"set\" + 0.020*\"feel\" + 0.019*\"come\" + 0.019*\"day\" + 0.019*\"mech\" + 0.018*\"learn\" + 0.016*\"longcovid\" + 0.015*\"unknown\" + 0.014*\"tell\" + 0.014*\"lot\" + 0.013*\"go\" + 0.013*\"time\" + 0.012*\"test_trace\" + 0.011*\"longhauler\"')]"
      ]
     },
     "execution_count": 41,
     "metadata": {},
     "output_type": "execute_result"
    }
   ],
   "source": [
    "bm.print_topics(20, num_words=20)"
   ]
  },
  {
   "cell_type": "code",
   "execution_count": 49,
   "metadata": {
    "colab": {
     "base_uri": "https://localhost:8080/"
    },
    "id": "RRgdb03z1Ozh",
    "outputId": "95d69a7f-ea6b-4a12-e16a-f39d696aa731",
    "scrolled": false
   },
   "outputs": [
    {
     "name": "stderr",
     "output_type": "stream",
     "text": [
      "/home/dipta007/miniconda3/envs/ml/lib/python3.7/site-packages/ipykernel/ipkernel.py:283: DeprecationWarning: `should_run_async` will not call `transform_cell` automatically in the future. Please pass the result to `transformed_cell` argument and any exception that happen during thetransform in `preprocessing_exc_tuple` in IPython 7.17 and above.\n",
      "  and should_run_async(code)\n"
     ]
    }
   ],
   "source": [
    "# best_model.print_topics(20, num_words=20)"
   ]
  },
  {
   "cell_type": "code",
   "execution_count": 48,
   "metadata": {},
   "outputs": [
    {
     "name": "stderr",
     "output_type": "stream",
     "text": [
      "/home/dipta007/miniconda3/envs/ml/lib/python3.7/site-packages/ipykernel/ipkernel.py:283: DeprecationWarning: `should_run_async` will not call `transform_cell` automatically in the future. Please pass the result to `transformed_cell` argument and any exception that happen during thetransform in `preprocessing_exc_tuple` in IPython 7.17 and above.\n",
      "  and should_run_async(code)\n"
     ]
    },
    {
     "data": {
      "text/plain": [
       "{(1, 0.1376082244070588),\n",
       " (2, 0.2469477808737014),\n",
       " (3, 0.2689993291322535),\n",
       " (4, 0.2592261324295235),\n",
       " (5, 0.26810438089813826),\n",
       " (6, 0.2926006085381369),\n",
       " (7, 0.3177840845658494),\n",
       " (8, 0.3530812145107512),\n",
       " (9, 0.3443153292398681),\n",
       " (10, 0.3235859635152769),\n",
       " (11, 0.3150289574391908),\n",
       " (12, 0.3141292695462725),\n",
       " (13, 0.3215299347583041),\n",
       " (14, 0.3038237290966723),\n",
       " (15, 0.3207711375102277),\n",
       " (16, 0.303742943256972),\n",
       " (17, 0.33512072858057224),\n",
       " (18, 0.34974568054039934),\n",
       " (19, 0.35033618046151754),\n",
       " (20, 0.36106329690159067),\n",
       " (21, 0.3475408003599065),\n",
       " (22, 0.34480976469296004),\n",
       " (23, 0.3150402005434722),\n",
       " (24, 0.34675130689520745),\n",
       " (25, 0.3498655391817334),\n",
       " (26, 0.3258966952600399),\n",
       " (27, 0.34364901346197496),\n",
       " (28, 0.3253130621236005),\n",
       " (29, 0.3332060839610965),\n",
       " (30, 0.32989695646180217),\n",
       " (31, 0.33374770491337896),\n",
       " (32, 0.3266495424520961),\n",
       " (33, 0.32585287870296137),\n",
       " (34, 0.3293959616563284),\n",
       " (35, 0.33125378428267144),\n",
       " (36, 0.3351448089882815),\n",
       " (37, 0.33532786517029634),\n",
       " (38, 0.33021377685701453),\n",
       " (39, 0.32793573068325893),\n",
       " (40, 0.3459165618478358),\n",
       " (41, 0.3365521658450953),\n",
       " (42, 0.3236009667715384),\n",
       " (43, 0.32835764802309),\n",
       " (44, 0.33340092135159993),\n",
       " (45, 0.3363357919291861),\n",
       " (46, 0.33441701242869165),\n",
       " (47, 0.33238206892092353),\n",
       " (48, 0.33432451185092527),\n",
       " (49, 0.31840909180003646),\n",
       " (50, 0.32202422333863273),\n",
       " (51, 0.3235479584923134),\n",
       " (52, 0.3338591584953087),\n",
       " (53, 0.33547406586772804),\n",
       " (54, 0.3368879730028799),\n",
       " (55, 0.32981311600803065),\n",
       " (56, 0.3313274129621534),\n",
       " (57, 0.33039159736805285),\n",
       " (58, 0.3349431792435507),\n",
       " (59, 0.3357966373791792),\n",
       " (60, 0.33913691698675147),\n",
       " (61, 0.34871220720787316),\n",
       " (62, 0.33825539692583895),\n",
       " (63, 0.33243744011111204),\n",
       " (64, 0.33545449348686585),\n",
       " (65, 0.33584274554314547),\n",
       " (66, 0.3346912276917757),\n",
       " (67, 0.34024244927647657),\n",
       " (68, 0.3514443510383131),\n",
       " (69, 0.34406148736929787),\n",
       " (70, 0.3470369250408499),\n",
       " (71, 0.3439097477256254),\n",
       " (72, 0.34620854880307356),\n",
       " (73, 0.3516850142365207),\n",
       " (74, 0.3555243026037687),\n",
       " (75, 0.34529998666064743),\n",
       " (76, 0.3433664868936631),\n",
       " (77, 0.35601300558907323),\n",
       " (78, 0.3595324954249624),\n",
       " (79, 0.3487273887529719),\n",
       " (80, 0.34945931245285483),\n",
       " (81, 0.33993333599668724),\n",
       " (82, 0.3421240234161886),\n",
       " (83, 0.3487314935262079),\n",
       " (84, 0.33490807675410117),\n",
       " (85, 0.3609792751762691),\n",
       " (86, 0.3465193127449423),\n",
       " (87, 0.3443239019360909),\n",
       " (88, 0.352275647093109),\n",
       " (89, 0.3584886093715476),\n",
       " (90, 0.3561814609439819),\n",
       " (91, 0.34518216241019645),\n",
       " (92, 0.34067882413894296),\n",
       " (93, 0.3484198112933789),\n",
       " (94, 0.3545321603655618),\n",
       " (95, 0.35206113064983),\n",
       " (96, 0.3463097428483946),\n",
       " (97, 0.3448917510341031),\n",
       " (98, 0.35094488502328874),\n",
       " (99, 0.3496707924328655),\n",
       " (100, 0.35407033224922685),\n",
       " (101, 0.3433144988049047),\n",
       " (102, 0.3506980522510106),\n",
       " (103, 0.3423656317902604),\n",
       " (104, 0.33156141834529795),\n",
       " (105, 0.34569363491103705),\n",
       " (106, 0.34303860473953107),\n",
       " (107, 0.3500322231711012),\n",
       " (108, 0.3525791082982216),\n",
       " (109, 0.35062791593915527),\n",
       " (110, 0.34831463494071113),\n",
       " (111, 0.34862517574503105),\n",
       " (112, 0.3438448040085813),\n",
       " (113, 0.34997935591364004),\n",
       " (114, 0.36209396822993756),\n",
       " (115, 0.35379389377482945),\n",
       " (116, 0.3435977495510997),\n",
       " (117, 0.32699334614609527),\n",
       " (118, 0.354740438140835),\n",
       " (119, 0.3616949980544786),\n",
       " (120, 0.34065213023365204),\n",
       " (121, 0.3365317060974378),\n",
       " (122, 0.33160041766216747),\n",
       " (123, 0.33299478217115097),\n",
       " (124, 0.3534116182421284),\n",
       " (125, 0.34416512713630104),\n",
       " (126, 0.34807818109289534),\n",
       " (127, 0.34153117988031007),\n",
       " (128, 0.3623505663307919),\n",
       " (129, 0.3526786280261668),\n",
       " (130, 0.34276102372166145),\n",
       " (131, 0.3326999969927259),\n",
       " (132, 0.3470273174764659),\n",
       " (133, 0.337129896069762),\n",
       " (134, 0.34180076834233525),\n",
       " (135, 0.3302300356675997),\n",
       " (136, 0.348426587123355),\n",
       " (137, 0.32504821064048034),\n",
       " (138, 0.32552182705258675),\n",
       " (139, 0.3468957149816539),\n",
       " (140, 0.34277816362465763),\n",
       " (141, 0.3384541665353138),\n",
       " (142, 0.3523123307535525),\n",
       " (143, 0.3302913201543276),\n",
       " (144, 0.3444199636828091),\n",
       " (145, 0.32824306009474696),\n",
       " (146, 0.3355180784412901),\n",
       " (147, 0.336782082340672),\n",
       " (148, 0.3471201657781729),\n",
       " (149, 0.3488258014055129)}"
      ]
     },
     "execution_count": 48,
     "metadata": {},
     "output_type": "execute_result"
    }
   ],
   "source": [
    "set(zip(x, y))"
   ]
  },
  {
   "cell_type": "code",
   "execution_count": 45,
   "metadata": {
    "id": "1mn75ufv6-k3"
   },
   "outputs": [
    {
     "name": "stderr",
     "output_type": "stream",
     "text": [
      "/home/dipta007/miniconda3/envs/ml/lib/python3.7/site-packages/ipykernel/ipkernel.py:283: DeprecationWarning: `should_run_async` will not call `transform_cell` automatically in the future. Please pass the result to `transformed_cell` argument and any exception that happen during thetransform in `preprocessing_exc_tuple` in IPython 7.17 and above.\n",
      "  and should_run_async(code)\n"
     ]
    },
    {
     "ename": "ValueError",
     "evalue": "The truth value of an array with more than one element is ambiguous. Use a.any() or a.all()",
     "output_type": "error",
     "traceback": [
      "\u001b[0;31m---------------------------------------------------------------------------\u001b[0m",
      "\u001b[0;31mValueError\u001b[0m                                Traceback (most recent call last)",
      "\u001b[0;32m<ipython-input-45-72acfeadfabe>\u001b[0m in \u001b[0;36m<module>\u001b[0;34m\u001b[0m\n\u001b[1;32m      5\u001b[0m \u001b[0;32mimport\u001b[0m \u001b[0mpyLDAvis\u001b[0m\u001b[0;34m.\u001b[0m\u001b[0mgensim_models\u001b[0m \u001b[0;32mas\u001b[0m \u001b[0mgensimvis\u001b[0m\u001b[0;34m\u001b[0m\u001b[0;34m\u001b[0m\u001b[0m\n\u001b[1;32m      6\u001b[0m \u001b[0mpyLDAvis\u001b[0m\u001b[0;34m.\u001b[0m\u001b[0menable_notebook\u001b[0m\u001b[0;34m(\u001b[0m\u001b[0;34m)\u001b[0m\u001b[0;34m\u001b[0m\u001b[0;34m\u001b[0m\u001b[0m\n\u001b[0;32m----> 7\u001b[0;31m \u001b[0mvis\u001b[0m \u001b[0;34m=\u001b[0m \u001b[0mgensimvis\u001b[0m\u001b[0;34m.\u001b[0m\u001b[0mprepare\u001b[0m\u001b[0;34m(\u001b[0m\u001b[0mbm\u001b[0m\u001b[0;34m,\u001b[0m \u001b[0mtrain_corpus4\u001b[0m\u001b[0;34m,\u001b[0m \u001b[0mtrain_id2word4\u001b[0m\u001b[0;34m)\u001b[0m\u001b[0;34m\u001b[0m\u001b[0;34m\u001b[0m\u001b[0m\n\u001b[0m\u001b[1;32m      8\u001b[0m \u001b[0;34m\u001b[0m\u001b[0m\n\u001b[1;32m      9\u001b[0m \u001b[0;34m\u001b[0m\u001b[0m\n",
      "\u001b[0;32m~/miniconda3/envs/ml/lib/python3.7/site-packages/pyLDAvis/gensim_models.py\u001b[0m in \u001b[0;36mprepare\u001b[0;34m(topic_model, corpus, dictionary, doc_topic_dist, **kwargs)\u001b[0m\n\u001b[1;32m    121\u001b[0m     \"\"\"\n\u001b[1;32m    122\u001b[0m     \u001b[0mopts\u001b[0m \u001b[0;34m=\u001b[0m \u001b[0mfp\u001b[0m\u001b[0;34m.\u001b[0m\u001b[0mmerge\u001b[0m\u001b[0;34m(\u001b[0m\u001b[0m_extract_data\u001b[0m\u001b[0;34m(\u001b[0m\u001b[0mtopic_model\u001b[0m\u001b[0;34m,\u001b[0m \u001b[0mcorpus\u001b[0m\u001b[0;34m,\u001b[0m \u001b[0mdictionary\u001b[0m\u001b[0;34m,\u001b[0m \u001b[0mdoc_topic_dist\u001b[0m\u001b[0;34m)\u001b[0m\u001b[0;34m,\u001b[0m \u001b[0mkwargs\u001b[0m\u001b[0;34m)\u001b[0m\u001b[0;34m\u001b[0m\u001b[0;34m\u001b[0m\u001b[0m\n\u001b[0;32m--> 123\u001b[0;31m     \u001b[0;32mreturn\u001b[0m \u001b[0mpyLDAvis\u001b[0m\u001b[0;34m.\u001b[0m\u001b[0mprepare\u001b[0m\u001b[0;34m(\u001b[0m\u001b[0;34m**\u001b[0m\u001b[0mopts\u001b[0m\u001b[0;34m)\u001b[0m\u001b[0;34m\u001b[0m\u001b[0;34m\u001b[0m\u001b[0m\n\u001b[0m",
      "\u001b[0;32m~/miniconda3/envs/ml/lib/python3.7/site-packages/pyLDAvis/_prepare.py\u001b[0m in \u001b[0;36mprepare\u001b[0;34m(topic_term_dists, doc_topic_dists, doc_lengths, vocab, term_frequency, R, lambda_step, mds, n_jobs, plot_opts, sort_topics, start_index)\u001b[0m\n\u001b[1;32m    416\u001b[0m     \u001b[0mR\u001b[0m \u001b[0;34m=\u001b[0m \u001b[0mmin\u001b[0m\u001b[0;34m(\u001b[0m\u001b[0mR\u001b[0m\u001b[0;34m,\u001b[0m \u001b[0mlen\u001b[0m\u001b[0;34m(\u001b[0m\u001b[0mvocab\u001b[0m\u001b[0;34m)\u001b[0m\u001b[0;34m)\u001b[0m\u001b[0;34m\u001b[0m\u001b[0;34m\u001b[0m\u001b[0m\n\u001b[1;32m    417\u001b[0m \u001b[0;34m\u001b[0m\u001b[0m\n\u001b[0;32m--> 418\u001b[0;31m     \u001b[0mtopic_freq\u001b[0m \u001b[0;34m=\u001b[0m \u001b[0mdoc_topic_dists\u001b[0m\u001b[0;34m.\u001b[0m\u001b[0mmul\u001b[0m\u001b[0;34m(\u001b[0m\u001b[0mdoc_lengths\u001b[0m\u001b[0;34m,\u001b[0m \u001b[0maxis\u001b[0m\u001b[0;34m=\u001b[0m\u001b[0;34m\"index\"\u001b[0m\u001b[0;34m)\u001b[0m\u001b[0;34m.\u001b[0m\u001b[0msum\u001b[0m\u001b[0;34m(\u001b[0m\u001b[0;34m)\u001b[0m\u001b[0;34m\u001b[0m\u001b[0;34m\u001b[0m\u001b[0m\n\u001b[0m\u001b[1;32m    419\u001b[0m     \u001b[0;31m# topic_freq       = np.dot(doc_topic_dists.T, doc_lengths)\u001b[0m\u001b[0;34m\u001b[0m\u001b[0;34m\u001b[0m\u001b[0;34m\u001b[0m\u001b[0m\n\u001b[1;32m    420\u001b[0m     \u001b[0;32mif\u001b[0m \u001b[0;34m(\u001b[0m\u001b[0msort_topics\u001b[0m\u001b[0;34m)\u001b[0m\u001b[0;34m:\u001b[0m\u001b[0;34m\u001b[0m\u001b[0;34m\u001b[0m\u001b[0m\n",
      "\u001b[0;32m~/miniconda3/envs/ml/lib/python3.7/site-packages/pandas/core/ops/__init__.py\u001b[0m in \u001b[0;36mf\u001b[0;34m(self, other, axis, level, fill_value)\u001b[0m\n",
      "\u001b[0;32m~/miniconda3/envs/ml/lib/python3.7/site-packages/pandas/core/ops/__init__.py\u001b[0m in \u001b[0;36m_combine_series_frame\u001b[0;34m(self, other, func, fill_value, axis, level)\u001b[0m\n",
      "\u001b[0;32m~/miniconda3/envs/ml/lib/python3.7/site-packages/pandas/core/frame.py\u001b[0m in \u001b[0;36m_combine_match_index\u001b[0;34m(self, other, func)\u001b[0m\n\u001b[1;32m   5315\u001b[0m         \u001b[0mDataFrame\u001b[0m\u001b[0;34m.\u001b[0m\u001b[0mdrop_duplicates\u001b[0m \u001b[0;34m:\u001b[0m \u001b[0mRemove\u001b[0m \u001b[0mduplicate\u001b[0m \u001b[0mvalues\u001b[0m \u001b[0;32mfrom\u001b[0m \u001b[0mDataFrame\u001b[0m\u001b[0;34m.\u001b[0m\u001b[0;34m\u001b[0m\u001b[0;34m\u001b[0m\u001b[0m\n\u001b[1;32m   5316\u001b[0m \u001b[0;34m\u001b[0m\u001b[0m\n\u001b[0;32m-> 5317\u001b[0;31m         \u001b[0mExamples\u001b[0m\u001b[0;34m\u001b[0m\u001b[0;34m\u001b[0m\u001b[0m\n\u001b[0m\u001b[1;32m   5318\u001b[0m         \u001b[0;34m-\u001b[0m\u001b[0;34m-\u001b[0m\u001b[0;34m-\u001b[0m\u001b[0;34m-\u001b[0m\u001b[0;34m-\u001b[0m\u001b[0;34m-\u001b[0m\u001b[0;34m-\u001b[0m\u001b[0;34m-\u001b[0m\u001b[0;34m\u001b[0m\u001b[0;34m\u001b[0m\u001b[0m\n\u001b[1;32m   5319\u001b[0m         \u001b[0mConsider\u001b[0m \u001b[0mdataset\u001b[0m \u001b[0mcontaining\u001b[0m \u001b[0mramen\u001b[0m \u001b[0mrating\u001b[0m\u001b[0;34m.\u001b[0m\u001b[0;34m\u001b[0m\u001b[0;34m\u001b[0m\u001b[0m\n",
      "\u001b[0;32m~/miniconda3/envs/ml/lib/python3.7/site-packages/pandas/core/ops/array_ops.py\u001b[0m in \u001b[0;36mna_op\u001b[0;34m(x, y)\u001b[0m\n\u001b[1;32m    119\u001b[0m     \"\"\"\n\u001b[1;32m    120\u001b[0m     \u001b[0mReturn\u001b[0m \u001b[0mthe\u001b[0m \u001b[0mresult\u001b[0m \u001b[0mof\u001b[0m \u001b[0mevaluating\u001b[0m \u001b[0mop\u001b[0m \u001b[0mon\u001b[0m \u001b[0mthe\u001b[0m \u001b[0mpassed\u001b[0m \u001b[0;32min\u001b[0m \u001b[0mvalues\u001b[0m\u001b[0;34m.\u001b[0m\u001b[0;34m\u001b[0m\u001b[0;34m\u001b[0m\u001b[0m\n\u001b[0;32m--> 121\u001b[0;31m \u001b[0;34m\u001b[0m\u001b[0m\n\u001b[0m\u001b[1;32m    122\u001b[0m     \u001b[0mIf\u001b[0m \u001b[0mnative\u001b[0m \u001b[0mtypes\u001b[0m \u001b[0mare\u001b[0m \u001b[0;32mnot\u001b[0m \u001b[0mcompatible\u001b[0m\u001b[0;34m,\u001b[0m \u001b[0;32mtry\u001b[0m \u001b[0mcoercion\u001b[0m \u001b[0mto\u001b[0m \u001b[0mobject\u001b[0m \u001b[0mdtype\u001b[0m\u001b[0;34m.\u001b[0m\u001b[0;34m\u001b[0m\u001b[0;34m\u001b[0m\u001b[0m\n\u001b[1;32m    123\u001b[0m \u001b[0;34m\u001b[0m\u001b[0m\n",
      "\u001b[0;32m~/miniconda3/envs/ml/lib/python3.7/site-packages/pandas/core/ops/array_ops.py\u001b[0m in \u001b[0;36mna_arithmetic_op\u001b[0;34m(left, right, op, str_rep)\u001b[0m\n\u001b[1;32m    147\u001b[0m             \u001b[0;31m#  will handle complex numbers incorrectly, see GH#32047\u001b[0m\u001b[0;34m\u001b[0m\u001b[0;34m\u001b[0m\u001b[0;34m\u001b[0m\u001b[0m\n\u001b[1;32m    148\u001b[0m             \u001b[0;32mraise\u001b[0m\u001b[0;34m\u001b[0m\u001b[0;34m\u001b[0m\u001b[0m\n\u001b[0;32m--> 149\u001b[0;31m         \u001b[0mresult\u001b[0m \u001b[0;34m=\u001b[0m \u001b[0m_masked_arith_op\u001b[0m\u001b[0;34m(\u001b[0m\u001b[0mleft\u001b[0m\u001b[0;34m,\u001b[0m \u001b[0mright\u001b[0m\u001b[0;34m,\u001b[0m \u001b[0mop\u001b[0m\u001b[0;34m)\u001b[0m\u001b[0;34m\u001b[0m\u001b[0;34m\u001b[0m\u001b[0m\n\u001b[0m\u001b[1;32m    150\u001b[0m \u001b[0;34m\u001b[0m\u001b[0m\n\u001b[1;32m    151\u001b[0m     \u001b[0;32mif\u001b[0m \u001b[0mis_cmp\u001b[0m \u001b[0;32mand\u001b[0m \u001b[0;34m(\u001b[0m\u001b[0mis_scalar\u001b[0m\u001b[0;34m(\u001b[0m\u001b[0mresult\u001b[0m\u001b[0;34m)\u001b[0m \u001b[0;32mor\u001b[0m \u001b[0mresult\u001b[0m \u001b[0;32mis\u001b[0m \u001b[0mNotImplemented\u001b[0m\u001b[0;34m)\u001b[0m\u001b[0;34m:\u001b[0m\u001b[0;34m\u001b[0m\u001b[0;34m\u001b[0m\u001b[0m\n",
      "\u001b[0;32m~/miniconda3/envs/ml/lib/python3.7/site-packages/pandas/core/computation/expressions.py\u001b[0m in \u001b[0;36mevaluate\u001b[0;34m(op, a, b, use_numexpr)\u001b[0m\n\u001b[1;32m    230\u001b[0m     \u001b[0mop_str\u001b[0m \u001b[0;34m=\u001b[0m \u001b[0m_op_str_mapping\u001b[0m\u001b[0;34m[\u001b[0m\u001b[0mop\u001b[0m\u001b[0;34m]\u001b[0m\u001b[0;34m\u001b[0m\u001b[0;34m\u001b[0m\u001b[0m\n\u001b[1;32m    231\u001b[0m     \u001b[0;32mif\u001b[0m \u001b[0mop_str\u001b[0m \u001b[0;32mis\u001b[0m \u001b[0;32mnot\u001b[0m \u001b[0;32mNone\u001b[0m\u001b[0;34m:\u001b[0m\u001b[0;34m\u001b[0m\u001b[0;34m\u001b[0m\u001b[0m\n\u001b[0;32m--> 232\u001b[0;31m         \u001b[0muse_numexpr\u001b[0m \u001b[0;34m=\u001b[0m \u001b[0muse_numexpr\u001b[0m \u001b[0;32mand\u001b[0m \u001b[0m_bool_arith_check\u001b[0m\u001b[0;34m(\u001b[0m\u001b[0mop_str\u001b[0m\u001b[0;34m,\u001b[0m \u001b[0ma\u001b[0m\u001b[0;34m,\u001b[0m \u001b[0mb\u001b[0m\u001b[0;34m)\u001b[0m\u001b[0;34m\u001b[0m\u001b[0;34m\u001b[0m\u001b[0m\n\u001b[0m\u001b[1;32m    233\u001b[0m         \u001b[0;32mif\u001b[0m \u001b[0muse_numexpr\u001b[0m\u001b[0;34m:\u001b[0m\u001b[0;34m\u001b[0m\u001b[0;34m\u001b[0m\u001b[0m\n\u001b[1;32m    234\u001b[0m             \u001b[0;31m# error: \"None\" not callable\u001b[0m\u001b[0;34m\u001b[0m\u001b[0;34m\u001b[0m\u001b[0;34m\u001b[0m\u001b[0m\n",
      "\u001b[0;31mValueError\u001b[0m: The truth value of an array with more than one element is ambiguous. Use a.any() or a.all()"
     ]
    }
   ],
   "source": [
    "# !pip install pyLDAvis\n",
    "\n",
    "import pyLDAvis\n",
    "# import pyLDAvis.gensim  # don't skip this\n",
    "import pyLDAvis.gensim_models as gensimvis\n",
    "pyLDAvis.enable_notebook()\n",
    "vis = gensimvis.prepare(bm, train_corpus4, train_id2word4)\n",
    "\n",
    "\n",
    "\n",
    "# vis = pyLDAvis.gensim.prepare(bm, train_corpus4, train_id2word4)\n",
    "vis"
   ]
  },
  {
   "cell_type": "code",
   "execution_count": null,
   "metadata": {},
   "outputs": [],
   "source": []
  }
 ],
 "metadata": {
  "accelerator": "GPU",
  "colab": {
   "machine_shape": "hm",
   "name": "CMSC691-LDA.ipynb",
   "provenance": [],
   "toc_visible": true
  },
  "kernelspec": {
   "display_name": "Python 3",
   "language": "python",
   "name": "python3"
  },
  "language_info": {
   "codemirror_mode": {
    "name": "ipython",
    "version": 3
   },
   "file_extension": ".py",
   "mimetype": "text/x-python",
   "name": "python",
   "nbconvert_exporter": "python",
   "pygments_lexer": "ipython3",
   "version": "3.7.6"
  }
 },
 "nbformat": 4,
 "nbformat_minor": 1
}
